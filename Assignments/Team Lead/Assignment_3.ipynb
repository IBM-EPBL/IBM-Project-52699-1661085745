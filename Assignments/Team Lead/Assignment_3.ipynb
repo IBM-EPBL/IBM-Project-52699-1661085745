{
 "cells": [
  {
   "cell_type": "markdown",
   "id": "a18fe2a7",
   "metadata": {},
   "source": [
    "1. The Dataset was successfully Downloaded"
   ]
  },
  {
   "cell_type": "markdown",
   "id": "f33bb666",
   "metadata": {},
   "source": [
    "Import Libraries"
   ]
  },
  {
   "cell_type": "code",
   "execution_count": 1,
   "id": "13eb64b4",
   "metadata": {},
   "outputs": [],
   "source": [
    "import pandas as pd\n",
    "import seaborn as sns\n",
    "import matplotlib.pyplot as plt\n",
    "import numpy as np\n",
    "from sklearn.preprocessing import LabelEncoder, MinMaxScaler\n",
    "from sklearn.model_selection  import train_test_split\n",
    "from sklearn import linear_model\n",
    "from sklearn.metrics import mean_squared_error, r2_score"
   ]
  },
  {
   "cell_type": "markdown",
   "id": "fb30ebbd",
   "metadata": {},
   "source": [
    "2.Load the dataset "
   ]
  },
  {
   "cell_type": "code",
   "execution_count": 2,
   "id": "7c2df1b8",
   "metadata": {},
   "outputs": [],
   "source": [
    "data = pd.read_csv(r\"C:\\Users\\user\\Downloads\\abalone1.csv\")"
   ]
  },
  {
   "cell_type": "code",
   "execution_count": 3,
   "id": "97ee906f",
   "metadata": {},
   "outputs": [
    {
     "data": {
      "text/html": [
       "<div>\n",
       "<style scoped>\n",
       "    .dataframe tbody tr th:only-of-type {\n",
       "        vertical-align: middle;\n",
       "    }\n",
       "\n",
       "    .dataframe tbody tr th {\n",
       "        vertical-align: top;\n",
       "    }\n",
       "\n",
       "    .dataframe thead th {\n",
       "        text-align: right;\n",
       "    }\n",
       "</style>\n",
       "<table border=\"1\" class=\"dataframe\">\n",
       "  <thead>\n",
       "    <tr style=\"text-align: right;\">\n",
       "      <th></th>\n",
       "      <th>Sex</th>\n",
       "      <th>Length</th>\n",
       "      <th>Diameter</th>\n",
       "      <th>Height</th>\n",
       "      <th>Whole weight</th>\n",
       "      <th>Shucked weight</th>\n",
       "      <th>Viscera weight</th>\n",
       "      <th>Shell weight</th>\n",
       "      <th>Rings</th>\n",
       "      <th>Age</th>\n",
       "    </tr>\n",
       "  </thead>\n",
       "  <tbody>\n",
       "    <tr>\n",
       "      <th>0</th>\n",
       "      <td>M</td>\n",
       "      <td>0.455</td>\n",
       "      <td>0.365</td>\n",
       "      <td>0.095</td>\n",
       "      <td>0.5140</td>\n",
       "      <td>0.2245</td>\n",
       "      <td>0.1010</td>\n",
       "      <td>0.150</td>\n",
       "      <td>15</td>\n",
       "      <td>16.5</td>\n",
       "    </tr>\n",
       "    <tr>\n",
       "      <th>1</th>\n",
       "      <td>M</td>\n",
       "      <td>0.350</td>\n",
       "      <td>0.265</td>\n",
       "      <td>0.090</td>\n",
       "      <td>0.2255</td>\n",
       "      <td>0.0995</td>\n",
       "      <td>0.0485</td>\n",
       "      <td>0.070</td>\n",
       "      <td>7</td>\n",
       "      <td>8.5</td>\n",
       "    </tr>\n",
       "    <tr>\n",
       "      <th>2</th>\n",
       "      <td>F</td>\n",
       "      <td>0.530</td>\n",
       "      <td>0.420</td>\n",
       "      <td>0.135</td>\n",
       "      <td>0.6770</td>\n",
       "      <td>0.2565</td>\n",
       "      <td>0.1415</td>\n",
       "      <td>0.210</td>\n",
       "      <td>9</td>\n",
       "      <td>10.5</td>\n",
       "    </tr>\n",
       "    <tr>\n",
       "      <th>3</th>\n",
       "      <td>M</td>\n",
       "      <td>0.440</td>\n",
       "      <td>0.365</td>\n",
       "      <td>0.125</td>\n",
       "      <td>0.5160</td>\n",
       "      <td>0.2155</td>\n",
       "      <td>0.1140</td>\n",
       "      <td>0.155</td>\n",
       "      <td>10</td>\n",
       "      <td>11.5</td>\n",
       "    </tr>\n",
       "    <tr>\n",
       "      <th>4</th>\n",
       "      <td>I</td>\n",
       "      <td>0.330</td>\n",
       "      <td>0.255</td>\n",
       "      <td>0.080</td>\n",
       "      <td>0.2050</td>\n",
       "      <td>0.0895</td>\n",
       "      <td>0.0395</td>\n",
       "      <td>0.055</td>\n",
       "      <td>7</td>\n",
       "      <td>8.5</td>\n",
       "    </tr>\n",
       "  </tbody>\n",
       "</table>\n",
       "</div>"
      ],
      "text/plain": [
       "  Sex  Length  Diameter  Height  Whole weight  Shucked weight  Viscera weight  \\\n",
       "0   M   0.455     0.365   0.095        0.5140          0.2245          0.1010   \n",
       "1   M   0.350     0.265   0.090        0.2255          0.0995          0.0485   \n",
       "2   F   0.530     0.420   0.135        0.6770          0.2565          0.1415   \n",
       "3   M   0.440     0.365   0.125        0.5160          0.2155          0.1140   \n",
       "4   I   0.330     0.255   0.080        0.2050          0.0895          0.0395   \n",
       "\n",
       "   Shell weight  Rings   Age  \n",
       "0         0.150     15  16.5  \n",
       "1         0.070      7   8.5  \n",
       "2         0.210      9  10.5  \n",
       "3         0.155     10  11.5  \n",
       "4         0.055      7   8.5  "
      ]
     },
     "execution_count": 3,
     "metadata": {},
     "output_type": "execute_result"
    }
   ],
   "source": [
    "data.head()"
   ]
  },
  {
   "cell_type": "markdown",
   "id": "21b5e195",
   "metadata": {},
   "source": [
    "3. Perform Below Visualizations"
   ]
  },
  {
   "cell_type": "markdown",
   "id": "e5eefd37",
   "metadata": {},
   "source": [
    "3.1Univariate Analysis "
   ]
  },
  {
   "cell_type": "code",
   "execution_count": 4,
   "id": "8e7621bb",
   "metadata": {},
   "outputs": [
    {
     "data": {
      "text/plain": [
       "<AxesSubplot:ylabel='Frequency'>"
      ]
     },
     "execution_count": 4,
     "metadata": {},
     "output_type": "execute_result"
    },
    {
     "data": {
      "image/png": "[encoded data removed]",
      "text/plain": [
       "<Figure size 432x288 with 1 Axes>"
      ]
     },
     "metadata": {
      "needs_background": "light"
     },
     "output_type": "display_data"
    }
   ],
   "source": [
    "#Histogram\n",
    "data['Age'].plot(kind='hist')"
   ]
  },
  {
   "cell_type": "code",
   "execution_count": 5,
   "id": "e8a4b8e9",
   "metadata": {
    "scrolled": true
   },
   "outputs": [
    {
     "data": {
      "text/plain": [
       "{'whiskers': [<matplotlib.lines.Line2D at 0x22e7a16d550>,\n",
       "  <matplotlib.lines.Line2D at 0x22e7a16d820>],\n",
       " 'caps': [<matplotlib.lines.Line2D at 0x22e7a16dbb0>,\n",
       "  <matplotlib.lines.Line2D at 0x22e7a16ddc0>],\n",
       " 'boxes': [<matplotlib.lines.Line2D at 0x22e7a16d280>],\n",
       " 'medians': [<matplotlib.lines.Line2D at 0x22e7a17b0d0>],\n",
       " 'fliers': [<matplotlib.lines.Line2D at 0x22e7a17b3a0>],\n",
       " 'means': []}"
      ]
     },
     "execution_count": 5,
     "metadata": {},
     "output_type": "execute_result"
    },
    {
     "data": {
      "image/png": "[encoded data removed]",
      "text/plain": [
       "<Figure size 432x288 with 1 Axes>"
      ]
     },
     "metadata": {
      "needs_background": "light"
     },
     "output_type": "display_data"
    }
   ],
   "source": [
    "#Boxplot\n",
    "plt.boxplot(data['Length'])"
   ]
  },
  {
   "cell_type": "code",
   "execution_count": 6,
   "id": "e06190df",
   "metadata": {
    "scrolled": false
   },
   "outputs": [
    {
     "data": {
      "text/plain": [
       "<BarContainer object of 4177 artists>"
      ]
     },
     "execution_count": 6,
     "metadata": {},
     "output_type": "execute_result"
    },
    {
     "data": {
      "image/png": "[encoded data removed]",
      "text/plain": [
       "<Figure size 432x288 with 1 Axes>"
      ]
     },
     "metadata": {
      "needs_background": "light"
     },
     "output_type": "display_data"
    }
   ],
   "source": [
    "#Bar chart\n",
    "df = pd.DataFrame(data)\n",
    "X = list(df.iloc[:,0])\n",
    "Y = list(df.iloc[:,1])\n",
    "plt.bar(X,Y)"
   ]
  },
  {
   "cell_type": "markdown",
   "id": "304b6709",
   "metadata": {},
   "source": [
    "3.2 Bivariate Analysis"
   ]
  },
  {
   "cell_type": "code",
   "execution_count": 7,
   "id": "9d2810e5",
   "metadata": {},
   "outputs": [
    {
     "data": {
      "text/plain": [
       "<BarContainer object of 4177 artists>"
      ]
     },
     "execution_count": 7,
     "metadata": {},
     "output_type": "execute_result"
    },
    {
     "data": {
      "image/png": "[encoded data removed]",
      "text/plain": [
       "<Figure size 432x288 with 1 Axes>"
      ]
     },
     "metadata": {
      "needs_background": "light"
     },
     "output_type": "display_data"
    }
   ],
   "source": [
    "#Stacked Bar Chart\n",
    "plt.bar(data['Age'],data['Height'])"
   ]
  },
  {
   "cell_type": "code",
   "execution_count": 8,
   "id": "bdeb3a11",
   "metadata": {},
   "outputs": [
    {
     "data": {
      "text/plain": [
       "<matplotlib.collections.PathCollection at 0x22e00529490>"
      ]
     },
     "execution_count": 8,
     "metadata": {},
     "output_type": "execute_result"
    },
    {
     "data": {
      "image/png": "[encoded data removed]",
      "text/plain": [
       "<Figure size 432x288 with 1 Axes>"
      ]
     },
     "metadata": {
      "needs_background": "light"
     },
     "output_type": "display_data"
    }
   ],
   "source": [
    "#Scatter plot\n",
    "plt.scatter(data['Age'],data['Whole weight'])"
   ]
  },
  {
   "cell_type": "markdown",
   "id": "6416dae1",
   "metadata": {},
   "source": [
    "3.3 Multivatiate Analysis"
   ]
  },
  {
   "cell_type": "code",
   "execution_count": 9,
   "id": "562a69de",
   "metadata": {},
   "outputs": [
    {
     "data": {
      "text/plain": [
       "<seaborn.axisgrid.FacetGrid at 0x22e00715790>"
      ]
     },
     "execution_count": 9,
     "metadata": {},
     "output_type": "execute_result"
    },
    {
     "data": {
      "image/png": "[encoded data removed]",
      "text/plain": [
       "<Figure size 404.625x360 with 1 Axes>"
      ]
     },
     "metadata": {
      "needs_background": "light"
     },
     "output_type": "display_data"
    }
   ],
   "source": [
    "sns.catplot(data=data,x='Age',y='Whole weight',hue='Sex')"
   ]
  },
  {
   "cell_type": "code",
   "execution_count": 10,
   "id": "5cbc0c64",
   "metadata": {},
   "outputs": [
    {
     "data": {
      "text/plain": [
       "<seaborn.axisgrid.FacetGrid at 0x22e742d74f0>"
      ]
     },
     "execution_count": 10,
     "metadata": {},
     "output_type": "execute_result"
    },
    {
     "data": {
      "image/png": "[encoded data removed]",
      "text/plain": [
       "<Figure size 404.625x360 with 1 Axes>"
      ]
     },
     "metadata": {
      "needs_background": "light"
     },
     "output_type": "display_data"
    }
   ],
   "source": [
    "#Box Plot\n",
    "sns.catplot(data=data,x='Height',y='Age',hue='Sex',kind='box')"
   ]
  },
  {
   "cell_type": "markdown",
   "id": "6ce189c9",
   "metadata": {},
   "source": [
    "4. Perform descriptive statistics on the dataset. "
   ]
  },
  {
   "cell_type": "code",
   "execution_count": 16,
   "id": "56a4b833",
   "metadata": {},
   "outputs": [
    {
     "name": "stderr",
     "output_type": "stream",
     "text": [
      "C:\\Users\\user\\AppData\\Local\\Temp\\ipykernel_6272\\531903386.py:1: FutureWarning: Dropping of nuisance columns in DataFrame reductions (with 'numeric_only=None') is deprecated; in a future version this will raise TypeError.  Select only valid columns before calling the reduction.\n",
      "  data.mean()\n"
     ]
    },
    {
     "data": {
      "text/plain": [
       "Length             0.523992\n",
       "Diameter           0.407881\n",
       "Height             0.139516\n",
       "Whole weight       0.828742\n",
       "Shucked weight     0.359367\n",
       "Viscera weight     0.180594\n",
       "Shell weight       0.238831\n",
       "Rings              9.933684\n",
       "Age               11.433684\n",
       "dtype: float64"
      ]
     },
     "execution_count": 16,
     "metadata": {},
     "output_type": "execute_result"
    }
   ],
   "source": [
    "data.mean()"
   ]
  },
  {
   "cell_type": "code",
   "execution_count": 17,
   "id": "681d2d94",
   "metadata": {},
   "outputs": [
    {
     "name": "stderr",
     "output_type": "stream",
     "text": [
      "C:\\Users\\user\\AppData\\Local\\Temp\\ipykernel_6272\\4184645713.py:1: FutureWarning: Dropping of nuisance columns in DataFrame reductions (with 'numeric_only=None') is deprecated; in a future version this will raise TypeError.  Select only valid columns before calling the reduction.\n",
      "  data.median()\n"
     ]
    },
    {
     "data": {
      "text/plain": [
       "Length             0.5450\n",
       "Diameter           0.4250\n",
       "Height             0.1400\n",
       "Whole weight       0.7995\n",
       "Shucked weight     0.3360\n",
       "Viscera weight     0.1710\n",
       "Shell weight       0.2340\n",
       "Rings              9.0000\n",
       "Age               10.5000\n",
       "dtype: float64"
      ]
     },
     "execution_count": 17,
     "metadata": {},
     "output_type": "execute_result"
    }
   ],
   "source": [
    "data.median()"
   ]
  },
  {
   "cell_type": "code",
   "execution_count": 18,
   "id": "69283587",
   "metadata": {},
   "outputs": [
    {
     "data": {
      "text/html": [
       "<div>\n",
       "<style scoped>\n",
       "    .dataframe tbody tr th:only-of-type {\n",
       "        vertical-align: middle;\n",
       "    }\n",
       "\n",
       "    .dataframe tbody tr th {\n",
       "        vertical-align: top;\n",
       "    }\n",
       "\n",
       "    .dataframe thead th {\n",
       "        text-align: right;\n",
       "    }\n",
       "</style>\n",
       "<table border=\"1\" class=\"dataframe\">\n",
       "  <thead>\n",
       "    <tr style=\"text-align: right;\">\n",
       "      <th></th>\n",
       "      <th>Length</th>\n",
       "      <th>Diameter</th>\n",
       "      <th>Height</th>\n",
       "      <th>Whole weight</th>\n",
       "      <th>Shucked weight</th>\n",
       "      <th>Viscera weight</th>\n",
       "      <th>Shell weight</th>\n",
       "      <th>Rings</th>\n",
       "      <th>Age</th>\n",
       "    </tr>\n",
       "  </thead>\n",
       "  <tbody>\n",
       "    <tr>\n",
       "      <th>count</th>\n",
       "      <td>4177.000000</td>\n",
       "      <td>4177.000000</td>\n",
       "      <td>4177.000000</td>\n",
       "      <td>4177.000000</td>\n",
       "      <td>4177.000000</td>\n",
       "      <td>4177.000000</td>\n",
       "      <td>4177.000000</td>\n",
       "      <td>4177.000000</td>\n",
       "      <td>4177.000000</td>\n",
       "    </tr>\n",
       "    <tr>\n",
       "      <th>mean</th>\n",
       "      <td>0.523992</td>\n",
       "      <td>0.407881</td>\n",
       "      <td>0.139516</td>\n",
       "      <td>0.828742</td>\n",
       "      <td>0.359367</td>\n",
       "      <td>0.180594</td>\n",
       "      <td>0.238831</td>\n",
       "      <td>9.933684</td>\n",
       "      <td>11.433684</td>\n",
       "    </tr>\n",
       "    <tr>\n",
       "      <th>std</th>\n",
       "      <td>0.120093</td>\n",
       "      <td>0.099240</td>\n",
       "      <td>0.041827</td>\n",
       "      <td>0.490389</td>\n",
       "      <td>0.221963</td>\n",
       "      <td>0.109614</td>\n",
       "      <td>0.139203</td>\n",
       "      <td>3.224169</td>\n",
       "      <td>3.224169</td>\n",
       "    </tr>\n",
       "    <tr>\n",
       "      <th>min</th>\n",
       "      <td>0.075000</td>\n",
       "      <td>0.055000</td>\n",
       "      <td>0.000000</td>\n",
       "      <td>0.002000</td>\n",
       "      <td>0.001000</td>\n",
       "      <td>0.000500</td>\n",
       "      <td>0.001500</td>\n",
       "      <td>1.000000</td>\n",
       "      <td>2.500000</td>\n",
       "    </tr>\n",
       "    <tr>\n",
       "      <th>25%</th>\n",
       "      <td>0.450000</td>\n",
       "      <td>0.350000</td>\n",
       "      <td>0.115000</td>\n",
       "      <td>0.441500</td>\n",
       "      <td>0.186000</td>\n",
       "      <td>0.093500</td>\n",
       "      <td>0.130000</td>\n",
       "      <td>8.000000</td>\n",
       "      <td>9.500000</td>\n",
       "    </tr>\n",
       "    <tr>\n",
       "      <th>50%</th>\n",
       "      <td>0.545000</td>\n",
       "      <td>0.425000</td>\n",
       "      <td>0.140000</td>\n",
       "      <td>0.799500</td>\n",
       "      <td>0.336000</td>\n",
       "      <td>0.171000</td>\n",
       "      <td>0.234000</td>\n",
       "      <td>9.000000</td>\n",
       "      <td>10.500000</td>\n",
       "    </tr>\n",
       "    <tr>\n",
       "      <th>75%</th>\n",
       "      <td>0.615000</td>\n",
       "      <td>0.480000</td>\n",
       "      <td>0.165000</td>\n",
       "      <td>1.153000</td>\n",
       "      <td>0.502000</td>\n",
       "      <td>0.253000</td>\n",
       "      <td>0.329000</td>\n",
       "      <td>11.000000</td>\n",
       "      <td>12.500000</td>\n",
       "    </tr>\n",
       "    <tr>\n",
       "      <th>max</th>\n",
       "      <td>0.815000</td>\n",
       "      <td>0.650000</td>\n",
       "      <td>1.130000</td>\n",
       "      <td>2.825500</td>\n",
       "      <td>1.488000</td>\n",
       "      <td>0.760000</td>\n",
       "      <td>1.005000</td>\n",
       "      <td>29.000000</td>\n",
       "      <td>30.500000</td>\n",
       "    </tr>\n",
       "  </tbody>\n",
       "</table>\n",
       "</div>"
      ],
      "text/plain": [
       "            Length     Diameter       Height  Whole weight  Shucked weight  \\\n",
       "count  4177.000000  4177.000000  4177.000000   4177.000000     4177.000000   \n",
       "mean      0.523992     0.407881     0.139516      0.828742        0.359367   \n",
       "std       0.120093     0.099240     0.041827      0.490389        0.221963   \n",
       "min       0.075000     0.055000     0.000000      0.002000        0.001000   \n",
       "25%       0.450000     0.350000     0.115000      0.441500        0.186000   \n",
       "50%       0.545000     0.425000     0.140000      0.799500        0.336000   \n",
       "75%       0.615000     0.480000     0.165000      1.153000        0.502000   \n",
       "max       0.815000     0.650000     1.130000      2.825500        1.488000   \n",
       "\n",
       "       Viscera weight  Shell weight        Rings          Age  \n",
       "count     4177.000000   4177.000000  4177.000000  4177.000000  \n",
       "mean         0.180594      0.238831     9.933684    11.433684  \n",
       "std          0.109614      0.139203     3.224169     3.224169  \n",
       "min          0.000500      0.001500     1.000000     2.500000  \n",
       "25%          0.093500      0.130000     8.000000     9.500000  \n",
       "50%          0.171000      0.234000     9.000000    10.500000  \n",
       "75%          0.253000      0.329000    11.000000    12.500000  \n",
       "max          0.760000      1.005000    29.000000    30.500000  "
      ]
     },
     "execution_count": 18,
     "metadata": {},
     "output_type": "execute_result"
    }
   ],
   "source": [
    "data.describe()"
   ]
  },
  {
   "cell_type": "code",
   "execution_count": 19,
   "id": "f777c85a",
   "metadata": {},
   "outputs": [
    {
     "data": {
      "text/plain": [
       "(4177, 10)"
      ]
     },
     "execution_count": 19,
     "metadata": {},
     "output_type": "execute_result"
    }
   ],
   "source": [
    "data.shape"
   ]
  },
  {
   "cell_type": "markdown",
   "id": "e897ee29",
   "metadata": {},
   "source": [
    "5. Check for Missing values and deal with them. "
   ]
  },
  {
   "cell_type": "code",
   "execution_count": 20,
   "id": "d871a2d9",
   "metadata": {},
   "outputs": [
    {
     "data": {
      "text/plain": [
       "Sex               0\n",
       "Length            0\n",
       "Diameter          0\n",
       "Height            0\n",
       "Whole weight      0\n",
       "Shucked weight    0\n",
       "Viscera weight    0\n",
       "Shell weight      0\n",
       "Rings             0\n",
       "Age               0\n",
       "dtype: int64"
      ]
     },
     "execution_count": 20,
     "metadata": {},
     "output_type": "execute_result"
    }
   ],
   "source": [
    "data.isnull().sum()"
   ]
  },
  {
   "cell_type": "markdown",
   "id": "3a021101",
   "metadata": {},
   "source": [
    "6. Find the outliers and replace them outliers "
   ]
  },
  {
   "cell_type": "code",
   "execution_count": 21,
   "id": "f4aed353",
   "metadata": {},
   "outputs": [
    {
     "name": "stderr",
     "output_type": "stream",
     "text": [
      "C:\\Users\\user\\anaconda3\\lib\\site-packages\\seaborn\\_decorators.py:36: FutureWarning: Pass the following variable as a keyword arg: x. From version 0.12, the only valid positional argument will be `data`, and passing other arguments without an explicit keyword will result in an error or misinterpretation.\n",
      "  warnings.warn(\n"
     ]
    },
    {
     "data": {
      "text/plain": [
       "<AxesSubplot:xlabel='Age'>"
      ]
     },
     "execution_count": 21,
     "metadata": {},
     "output_type": "execute_result"
    },
    {
     "data": {
      "image/png": "[encoded data removed]",
      "text/plain": [
       "<Figure size 432x288 with 1 Axes>"
      ]
     },
     "metadata": {
      "needs_background": "light"
     },
     "output_type": "display_data"
    }
   ],
   "source": [
    "sns.boxplot(data['Age'])"
   ]
  },
  {
   "cell_type": "code",
   "execution_count": 22,
   "id": "4a39824d",
   "metadata": {},
   "outputs": [
    {
     "data": {
      "text/html": [
       "<div>\n",
       "<style scoped>\n",
       "    .dataframe tbody tr th:only-of-type {\n",
       "        vertical-align: middle;\n",
       "    }\n",
       "\n",
       "    .dataframe tbody tr th {\n",
       "        vertical-align: top;\n",
       "    }\n",
       "\n",
       "    .dataframe thead th {\n",
       "        text-align: right;\n",
       "    }\n",
       "</style>\n",
       "<table border=\"1\" class=\"dataframe\">\n",
       "  <thead>\n",
       "    <tr style=\"text-align: right;\">\n",
       "      <th></th>\n",
       "      <th>Length</th>\n",
       "      <th>Diameter</th>\n",
       "      <th>Height</th>\n",
       "      <th>Whole weight</th>\n",
       "      <th>Shucked weight</th>\n",
       "      <th>Viscera weight</th>\n",
       "      <th>Shell weight</th>\n",
       "      <th>Rings</th>\n",
       "      <th>Age</th>\n",
       "    </tr>\n",
       "  </thead>\n",
       "  <tbody>\n",
       "    <tr>\n",
       "      <th>0.25</th>\n",
       "      <td>0.450</td>\n",
       "      <td>0.35</td>\n",
       "      <td>0.115</td>\n",
       "      <td>0.4415</td>\n",
       "      <td>0.186</td>\n",
       "      <td>0.0935</td>\n",
       "      <td>0.130</td>\n",
       "      <td>8.0</td>\n",
       "      <td>9.5</td>\n",
       "    </tr>\n",
       "    <tr>\n",
       "      <th>0.75</th>\n",
       "      <td>0.615</td>\n",
       "      <td>0.48</td>\n",
       "      <td>0.165</td>\n",
       "      <td>1.1530</td>\n",
       "      <td>0.502</td>\n",
       "      <td>0.2530</td>\n",
       "      <td>0.329</td>\n",
       "      <td>11.0</td>\n",
       "      <td>12.5</td>\n",
       "    </tr>\n",
       "  </tbody>\n",
       "</table>\n",
       "</div>"
      ],
      "text/plain": [
       "      Length  Diameter  Height  Whole weight  Shucked weight  Viscera weight  \\\n",
       "0.25   0.450      0.35   0.115        0.4415           0.186          0.0935   \n",
       "0.75   0.615      0.48   0.165        1.1530           0.502          0.2530   \n",
       "\n",
       "      Shell weight  Rings   Age  \n",
       "0.25         0.130    8.0   9.5  \n",
       "0.75         0.329   11.0  12.5  "
      ]
     },
     "execution_count": 22,
     "metadata": {},
     "output_type": "execute_result"
    }
   ],
   "source": [
    "qnt = data.quantile(q=[0.25,0.75])\n",
    "qnt"
   ]
  },
  {
   "cell_type": "code",
   "execution_count": 23,
   "id": "c438d352",
   "metadata": {},
   "outputs": [
    {
     "data": {
      "text/plain": [
       "Length            0.1650\n",
       "Diameter          0.1300\n",
       "Height            0.0500\n",
       "Whole weight      0.7115\n",
       "Shucked weight    0.3160\n",
       "Viscera weight    0.1595\n",
       "Shell weight      0.1990\n",
       "Rings             3.0000\n",
       "Age               3.0000\n",
       "dtype: float64"
      ]
     },
     "execution_count": 23,
     "metadata": {},
     "output_type": "execute_result"
    }
   ],
   "source": [
    "IQR = qnt.loc[0.75] - qnt.loc[0.25]\n",
    "IQR"
   ]
  },
  {
   "cell_type": "code",
   "execution_count": 24,
   "id": "8394892a",
   "metadata": {},
   "outputs": [
    {
     "data": {
      "text/plain": [
       "Length             0.86250\n",
       "Diameter           0.67500\n",
       "Height             0.24000\n",
       "Whole weight       2.22025\n",
       "Shucked weight     0.97600\n",
       "Viscera weight     0.49225\n",
       "Shell weight       0.62750\n",
       "Rings             15.50000\n",
       "Age               17.00000\n",
       "dtype: float64"
      ]
     },
     "execution_count": 24,
     "metadata": {},
     "output_type": "execute_result"
    }
   ],
   "source": [
    "upper_extreme = qnt.loc[0.75]+1.5*IQR\n",
    "upper_extreme"
   ]
  },
  {
   "cell_type": "code",
   "execution_count": 25,
   "id": "4aa28857",
   "metadata": {},
   "outputs": [
    {
     "data": {
      "text/plain": [
       "Length            0.20250\n",
       "Diameter          0.15500\n",
       "Height            0.04000\n",
       "Whole weight     -0.62575\n",
       "Shucked weight   -0.28800\n",
       "Viscera weight   -0.14575\n",
       "Shell weight     -0.16850\n",
       "Rings             3.50000\n",
       "Age               5.00000\n",
       "dtype: float64"
      ]
     },
     "execution_count": 25,
     "metadata": {},
     "output_type": "execute_result"
    }
   ],
   "source": [
    "lower_extreme = qnt.loc[0.25]-1.5*IQR\n",
    "lower_extreme"
   ]
  },
  {
   "cell_type": "code",
   "execution_count": 26,
   "id": "7e9228e3",
   "metadata": {
    "scrolled": true
   },
   "outputs": [
    {
     "data": {
      "text/plain": [
       "(4177, 10)"
      ]
     },
     "execution_count": 26,
     "metadata": {},
     "output_type": "execute_result"
    }
   ],
   "source": [
    "df2 = data[(data['Age']<upper_extreme['Age']) & (data['Age']>lower_extreme['Age'])]\n",
    "df.shape"
   ]
  },
  {
   "cell_type": "code",
   "execution_count": 27,
   "id": "b5f1cf20",
   "metadata": {},
   "outputs": [
    {
     "data": {
      "text/plain": [
       "(3899, 10)"
      ]
     },
     "execution_count": 27,
     "metadata": {},
     "output_type": "execute_result"
    }
   ],
   "source": [
    "df2.shape"
   ]
  },
  {
   "cell_type": "code",
   "execution_count": 28,
   "id": "7a258e90",
   "metadata": {},
   "outputs": [
    {
     "name": "stderr",
     "output_type": "stream",
     "text": [
      "C:\\Users\\user\\anaconda3\\lib\\site-packages\\seaborn\\_decorators.py:36: FutureWarning: Pass the following variable as a keyword arg: x. From version 0.12, the only valid positional argument will be `data`, and passing other arguments without an explicit keyword will result in an error or misinterpretation.\n",
      "  warnings.warn(\n"
     ]
    },
    {
     "data": {
      "text/plain": [
       "<AxesSubplot:xlabel='Age'>"
      ]
     },
     "execution_count": 28,
     "metadata": {},
     "output_type": "execute_result"
    },
    {
     "data": {
      "image/png": "[encoded data removed]",
      "text/plain": [
       "<Figure size 432x288 with 1 Axes>"
      ]
     },
     "metadata": {
      "needs_background": "light"
     },
     "output_type": "display_data"
    }
   ],
   "source": [
    "sns.boxplot(df2['Age'])"
   ]
  },
  {
   "cell_type": "markdown",
   "id": "1ede7fc1",
   "metadata": {},
   "source": [
    "7. Check for Categorical columns and perform encoding"
   ]
  },
  {
   "cell_type": "code",
   "execution_count": 29,
   "id": "13e1b6c2",
   "metadata": {},
   "outputs": [
    {
     "name": "stderr",
     "output_type": "stream",
     "text": [
      "C:\\Users\\user\\AppData\\Local\\Temp\\ipykernel_6272\\1784642364.py:2: SettingWithCopyWarning: \n",
      "A value is trying to be set on a copy of a slice from a DataFrame.\n",
      "Try using .loc[row_indexer,col_indexer] = value instead\n",
      "\n",
      "See the caveats in the documentation: https://pandas.pydata.org/pandas-docs/stable/user_guide/indexing.html#returning-a-view-versus-a-copy\n",
      "  df2['Sex'] = le.fit_transform(df2['Sex'])\n",
      "C:\\Users\\user\\AppData\\Local\\Temp\\ipykernel_6272\\1784642364.py:3: SettingWithCopyWarning: \n",
      "A value is trying to be set on a copy of a slice from a DataFrame.\n",
      "Try using .loc[row_indexer,col_indexer] = value instead\n",
      "\n",
      "See the caveats in the documentation: https://pandas.pydata.org/pandas-docs/stable/user_guide/indexing.html#returning-a-view-versus-a-copy\n",
      "  df2['Age'] = le.fit_transform(df2['Age'])\n"
     ]
    },
    {
     "data": {
      "text/html": [
       "<div>\n",
       "<style scoped>\n",
       "    .dataframe tbody tr th:only-of-type {\n",
       "        vertical-align: middle;\n",
       "    }\n",
       "\n",
       "    .dataframe tbody tr th {\n",
       "        vertical-align: top;\n",
       "    }\n",
       "\n",
       "    .dataframe thead th {\n",
       "        text-align: right;\n",
       "    }\n",
       "</style>\n",
       "<table border=\"1\" class=\"dataframe\">\n",
       "  <thead>\n",
       "    <tr style=\"text-align: right;\">\n",
       "      <th></th>\n",
       "      <th>Sex</th>\n",
       "      <th>Length</th>\n",
       "      <th>Diameter</th>\n",
       "      <th>Height</th>\n",
       "      <th>Whole weight</th>\n",
       "      <th>Shucked weight</th>\n",
       "      <th>Viscera weight</th>\n",
       "      <th>Shell weight</th>\n",
       "      <th>Rings</th>\n",
       "      <th>Age</th>\n",
       "    </tr>\n",
       "  </thead>\n",
       "  <tbody>\n",
       "    <tr>\n",
       "      <th>0</th>\n",
       "      <td>2</td>\n",
       "      <td>0.455</td>\n",
       "      <td>0.365</td>\n",
       "      <td>0.095</td>\n",
       "      <td>0.5140</td>\n",
       "      <td>0.2245</td>\n",
       "      <td>0.1010</td>\n",
       "      <td>0.150</td>\n",
       "      <td>15</td>\n",
       "      <td>11</td>\n",
       "    </tr>\n",
       "    <tr>\n",
       "      <th>1</th>\n",
       "      <td>2</td>\n",
       "      <td>0.350</td>\n",
       "      <td>0.265</td>\n",
       "      <td>0.090</td>\n",
       "      <td>0.2255</td>\n",
       "      <td>0.0995</td>\n",
       "      <td>0.0485</td>\n",
       "      <td>0.070</td>\n",
       "      <td>7</td>\n",
       "      <td>3</td>\n",
       "    </tr>\n",
       "    <tr>\n",
       "      <th>2</th>\n",
       "      <td>0</td>\n",
       "      <td>0.530</td>\n",
       "      <td>0.420</td>\n",
       "      <td>0.135</td>\n",
       "      <td>0.6770</td>\n",
       "      <td>0.2565</td>\n",
       "      <td>0.1415</td>\n",
       "      <td>0.210</td>\n",
       "      <td>9</td>\n",
       "      <td>5</td>\n",
       "    </tr>\n",
       "    <tr>\n",
       "      <th>3</th>\n",
       "      <td>2</td>\n",
       "      <td>0.440</td>\n",
       "      <td>0.365</td>\n",
       "      <td>0.125</td>\n",
       "      <td>0.5160</td>\n",
       "      <td>0.2155</td>\n",
       "      <td>0.1140</td>\n",
       "      <td>0.155</td>\n",
       "      <td>10</td>\n",
       "      <td>6</td>\n",
       "    </tr>\n",
       "    <tr>\n",
       "      <th>4</th>\n",
       "      <td>1</td>\n",
       "      <td>0.330</td>\n",
       "      <td>0.255</td>\n",
       "      <td>0.080</td>\n",
       "      <td>0.2050</td>\n",
       "      <td>0.0895</td>\n",
       "      <td>0.0395</td>\n",
       "      <td>0.055</td>\n",
       "      <td>7</td>\n",
       "      <td>3</td>\n",
       "    </tr>\n",
       "  </tbody>\n",
       "</table>\n",
       "</div>"
      ],
      "text/plain": [
       "   Sex  Length  Diameter  Height  Whole weight  Shucked weight  \\\n",
       "0    2   0.455     0.365   0.095        0.5140          0.2245   \n",
       "1    2   0.350     0.265   0.090        0.2255          0.0995   \n",
       "2    0   0.530     0.420   0.135        0.6770          0.2565   \n",
       "3    2   0.440     0.365   0.125        0.5160          0.2155   \n",
       "4    1   0.330     0.255   0.080        0.2050          0.0895   \n",
       "\n",
       "   Viscera weight  Shell weight  Rings  Age  \n",
       "0          0.1010         0.150     15   11  \n",
       "1          0.0485         0.070      7    3  \n",
       "2          0.1415         0.210      9    5  \n",
       "3          0.1140         0.155     10    6  \n",
       "4          0.0395         0.055      7    3  "
      ]
     },
     "execution_count": 29,
     "metadata": {},
     "output_type": "execute_result"
    }
   ],
   "source": [
    "le = LabelEncoder()\n",
    "df2['Sex'] = le.fit_transform(df2['Sex'])\n",
    "df2['Age'] = le.fit_transform(df2['Age'])\n",
    "df2.head()"
   ]
  },
  {
   "cell_type": "markdown",
   "id": "d72da1e7",
   "metadata": {},
   "source": [
    ". 8. Split the data into dependent and independent variables"
   ]
  },
  {
   "cell_type": "code",
   "execution_count": 30,
   "id": "a352d3fa",
   "metadata": {},
   "outputs": [
    {
     "data": {
      "text/plain": [
       "array([['M', 0.455, 0.365, ..., 0.101, 0.15, 15],\n",
       "       ['M', 0.35, 0.265, ..., 0.0485, 0.07, 7],\n",
       "       ['F', 0.53, 0.42, ..., 0.1415, 0.21, 9],\n",
       "       ...,\n",
       "       ['M', 0.6, 0.475, ..., 0.2875, 0.308, 9],\n",
       "       ['F', 0.625, 0.485, ..., 0.261, 0.296, 10],\n",
       "       ['M', 0.71, 0.555, ..., 0.3765, 0.495, 12]], dtype=object)"
      ]
     },
     "execution_count": 30,
     "metadata": {},
     "output_type": "execute_result"
    }
   ],
   "source": [
    "x = df.iloc[:,:-1].values\n",
    "x"
   ]
  },
  {
   "cell_type": "code",
   "execution_count": 31,
   "id": "28bfcc26",
   "metadata": {},
   "outputs": [
    {
     "data": {
      "text/plain": [
       "array([16.5,  8.5, 10.5, ..., 10.5, 11.5, 13.5])"
      ]
     },
     "execution_count": 31,
     "metadata": {},
     "output_type": "execute_result"
    }
   ],
   "source": [
    "y = df.iloc[:,-1].values\n",
    "y"
   ]
  },
  {
   "cell_type": "markdown",
   "id": "72336e96",
   "metadata": {},
   "source": [
    "9. Scale the independent variables "
   ]
  },
  {
   "cell_type": "code",
   "execution_count": 32,
   "id": "702d6177",
   "metadata": {},
   "outputs": [
    {
     "data": {
      "text/html": [
       "<div>\n",
       "<style scoped>\n",
       "    .dataframe tbody tr th:only-of-type {\n",
       "        vertical-align: middle;\n",
       "    }\n",
       "\n",
       "    .dataframe tbody tr th {\n",
       "        vertical-align: top;\n",
       "    }\n",
       "\n",
       "    .dataframe thead th {\n",
       "        text-align: right;\n",
       "    }\n",
       "</style>\n",
       "<table border=\"1\" class=\"dataframe\">\n",
       "  <thead>\n",
       "    <tr style=\"text-align: right;\">\n",
       "      <th></th>\n",
       "      <th>Sex</th>\n",
       "      <th>Length</th>\n",
       "      <th>Diameter</th>\n",
       "      <th>Height</th>\n",
       "      <th>Whole weight</th>\n",
       "      <th>Shucked weight</th>\n",
       "      <th>Viscera weight</th>\n",
       "      <th>Shell weight</th>\n",
       "      <th>Rings</th>\n",
       "      <th>Age</th>\n",
       "    </tr>\n",
       "  </thead>\n",
       "  <tbody>\n",
       "    <tr>\n",
       "      <th>0</th>\n",
       "      <td>M</td>\n",
       "      <td>0.455</td>\n",
       "      <td>0.365</td>\n",
       "      <td>0.095</td>\n",
       "      <td>0.5140</td>\n",
       "      <td>0.2245</td>\n",
       "      <td>0.1010</td>\n",
       "      <td>0.1500</td>\n",
       "      <td>15</td>\n",
       "      <td>0.500000</td>\n",
       "    </tr>\n",
       "    <tr>\n",
       "      <th>1</th>\n",
       "      <td>M</td>\n",
       "      <td>0.350</td>\n",
       "      <td>0.265</td>\n",
       "      <td>0.090</td>\n",
       "      <td>0.2255</td>\n",
       "      <td>0.0995</td>\n",
       "      <td>0.0485</td>\n",
       "      <td>0.0700</td>\n",
       "      <td>7</td>\n",
       "      <td>0.214286</td>\n",
       "    </tr>\n",
       "    <tr>\n",
       "      <th>2</th>\n",
       "      <td>F</td>\n",
       "      <td>0.530</td>\n",
       "      <td>0.420</td>\n",
       "      <td>0.135</td>\n",
       "      <td>0.6770</td>\n",
       "      <td>0.2565</td>\n",
       "      <td>0.1415</td>\n",
       "      <td>0.2100</td>\n",
       "      <td>9</td>\n",
       "      <td>0.285714</td>\n",
       "    </tr>\n",
       "    <tr>\n",
       "      <th>3</th>\n",
       "      <td>M</td>\n",
       "      <td>0.440</td>\n",
       "      <td>0.365</td>\n",
       "      <td>0.125</td>\n",
       "      <td>0.5160</td>\n",
       "      <td>0.2155</td>\n",
       "      <td>0.1140</td>\n",
       "      <td>0.1550</td>\n",
       "      <td>10</td>\n",
       "      <td>0.321429</td>\n",
       "    </tr>\n",
       "    <tr>\n",
       "      <th>4</th>\n",
       "      <td>I</td>\n",
       "      <td>0.330</td>\n",
       "      <td>0.255</td>\n",
       "      <td>0.080</td>\n",
       "      <td>0.2050</td>\n",
       "      <td>0.0895</td>\n",
       "      <td>0.0395</td>\n",
       "      <td>0.0550</td>\n",
       "      <td>7</td>\n",
       "      <td>0.214286</td>\n",
       "    </tr>\n",
       "    <tr>\n",
       "      <th>...</th>\n",
       "      <td>...</td>\n",
       "      <td>...</td>\n",
       "      <td>...</td>\n",
       "      <td>...</td>\n",
       "      <td>...</td>\n",
       "      <td>...</td>\n",
       "      <td>...</td>\n",
       "      <td>...</td>\n",
       "      <td>...</td>\n",
       "      <td>...</td>\n",
       "    </tr>\n",
       "    <tr>\n",
       "      <th>4172</th>\n",
       "      <td>F</td>\n",
       "      <td>0.565</td>\n",
       "      <td>0.450</td>\n",
       "      <td>0.165</td>\n",
       "      <td>0.8870</td>\n",
       "      <td>0.3700</td>\n",
       "      <td>0.2390</td>\n",
       "      <td>0.2490</td>\n",
       "      <td>11</td>\n",
       "      <td>0.357143</td>\n",
       "    </tr>\n",
       "    <tr>\n",
       "      <th>4173</th>\n",
       "      <td>M</td>\n",
       "      <td>0.590</td>\n",
       "      <td>0.440</td>\n",
       "      <td>0.135</td>\n",
       "      <td>0.9660</td>\n",
       "      <td>0.4390</td>\n",
       "      <td>0.2145</td>\n",
       "      <td>0.2605</td>\n",
       "      <td>10</td>\n",
       "      <td>0.321429</td>\n",
       "    </tr>\n",
       "    <tr>\n",
       "      <th>4174</th>\n",
       "      <td>M</td>\n",
       "      <td>0.600</td>\n",
       "      <td>0.475</td>\n",
       "      <td>0.205</td>\n",
       "      <td>1.1760</td>\n",
       "      <td>0.5255</td>\n",
       "      <td>0.2875</td>\n",
       "      <td>0.3080</td>\n",
       "      <td>9</td>\n",
       "      <td>0.285714</td>\n",
       "    </tr>\n",
       "    <tr>\n",
       "      <th>4175</th>\n",
       "      <td>F</td>\n",
       "      <td>0.625</td>\n",
       "      <td>0.485</td>\n",
       "      <td>0.150</td>\n",
       "      <td>1.0945</td>\n",
       "      <td>0.5310</td>\n",
       "      <td>0.2610</td>\n",
       "      <td>0.2960</td>\n",
       "      <td>10</td>\n",
       "      <td>0.321429</td>\n",
       "    </tr>\n",
       "    <tr>\n",
       "      <th>4176</th>\n",
       "      <td>M</td>\n",
       "      <td>0.710</td>\n",
       "      <td>0.555</td>\n",
       "      <td>0.195</td>\n",
       "      <td>1.9485</td>\n",
       "      <td>0.9455</td>\n",
       "      <td>0.3765</td>\n",
       "      <td>0.4950</td>\n",
       "      <td>12</td>\n",
       "      <td>0.392857</td>\n",
       "    </tr>\n",
       "  </tbody>\n",
       "</table>\n",
       "<p>4177 rows × 10 columns</p>\n",
       "</div>"
      ],
      "text/plain": [
       "     Sex  Length  Diameter  Height  Whole weight  Shucked weight  \\\n",
       "0      M   0.455     0.365   0.095        0.5140          0.2245   \n",
       "1      M   0.350     0.265   0.090        0.2255          0.0995   \n",
       "2      F   0.530     0.420   0.135        0.6770          0.2565   \n",
       "3      M   0.440     0.365   0.125        0.5160          0.2155   \n",
       "4      I   0.330     0.255   0.080        0.2050          0.0895   \n",
       "...   ..     ...       ...     ...           ...             ...   \n",
       "4172   F   0.565     0.450   0.165        0.8870          0.3700   \n",
       "4173   M   0.590     0.440   0.135        0.9660          0.4390   \n",
       "4174   M   0.600     0.475   0.205        1.1760          0.5255   \n",
       "4175   F   0.625     0.485   0.150        1.0945          0.5310   \n",
       "4176   M   0.710     0.555   0.195        1.9485          0.9455   \n",
       "\n",
       "      Viscera weight  Shell weight  Rings       Age  \n",
       "0             0.1010        0.1500     15  0.500000  \n",
       "1             0.0485        0.0700      7  0.214286  \n",
       "2             0.1415        0.2100      9  0.285714  \n",
       "3             0.1140        0.1550     10  0.321429  \n",
       "4             0.0395        0.0550      7  0.214286  \n",
       "...              ...           ...    ...       ...  \n",
       "4172          0.2390        0.2490     11  0.357143  \n",
       "4173          0.2145        0.2605     10  0.321429  \n",
       "4174          0.2875        0.3080      9  0.285714  \n",
       "4175          0.2610        0.2960     10  0.321429  \n",
       "4176          0.3765        0.4950     12  0.392857  \n",
       "\n",
       "[4177 rows x 10 columns]"
      ]
     },
     "execution_count": 32,
     "metadata": {},
     "output_type": "execute_result"
    }
   ],
   "source": [
    "scaler = MinMaxScaler()\n",
    "df[['Age']] = scaler.fit_transform(df[['Age']])\n",
    "df"
   ]
  },
  {
   "cell_type": "markdown",
   "id": "f2427247",
   "metadata": {},
   "source": [
    "10. Split the data into training and testing "
   ]
  },
  {
   "cell_type": "code",
   "execution_count": 33,
   "id": "7ad87657",
   "metadata": {},
   "outputs": [],
   "source": [
    "x = data.drop('Rings', axis = 1)\n",
    "y = data['Whole weight']"
   ]
  },
  {
   "cell_type": "code",
   "execution_count": 34,
   "id": "a15820f7",
   "metadata": {
    "scrolled": true
   },
   "outputs": [
    {
     "data": {
      "text/html": [
       "<div>\n",
       "<style scoped>\n",
       "    .dataframe tbody tr th:only-of-type {\n",
       "        vertical-align: middle;\n",
       "    }\n",
       "\n",
       "    .dataframe tbody tr th {\n",
       "        vertical-align: top;\n",
       "    }\n",
       "\n",
       "    .dataframe thead th {\n",
       "        text-align: right;\n",
       "    }\n",
       "</style>\n",
       "<table border=\"1\" class=\"dataframe\">\n",
       "  <thead>\n",
       "    <tr style=\"text-align: right;\">\n",
       "      <th></th>\n",
       "      <th>Sex</th>\n",
       "      <th>Length</th>\n",
       "      <th>Diameter</th>\n",
       "      <th>Height</th>\n",
       "      <th>Whole weight</th>\n",
       "      <th>Shucked weight</th>\n",
       "      <th>Viscera weight</th>\n",
       "      <th>Shell weight</th>\n",
       "      <th>Age</th>\n",
       "    </tr>\n",
       "  </thead>\n",
       "  <tbody>\n",
       "    <tr>\n",
       "      <th>0</th>\n",
       "      <td>M</td>\n",
       "      <td>0.455</td>\n",
       "      <td>0.365</td>\n",
       "      <td>0.095</td>\n",
       "      <td>0.5140</td>\n",
       "      <td>0.2245</td>\n",
       "      <td>0.1010</td>\n",
       "      <td>0.1500</td>\n",
       "      <td>0.500000</td>\n",
       "    </tr>\n",
       "    <tr>\n",
       "      <th>1</th>\n",
       "      <td>M</td>\n",
       "      <td>0.350</td>\n",
       "      <td>0.265</td>\n",
       "      <td>0.090</td>\n",
       "      <td>0.2255</td>\n",
       "      <td>0.0995</td>\n",
       "      <td>0.0485</td>\n",
       "      <td>0.0700</td>\n",
       "      <td>0.214286</td>\n",
       "    </tr>\n",
       "    <tr>\n",
       "      <th>2</th>\n",
       "      <td>F</td>\n",
       "      <td>0.530</td>\n",
       "      <td>0.420</td>\n",
       "      <td>0.135</td>\n",
       "      <td>0.6770</td>\n",
       "      <td>0.2565</td>\n",
       "      <td>0.1415</td>\n",
       "      <td>0.2100</td>\n",
       "      <td>0.285714</td>\n",
       "    </tr>\n",
       "    <tr>\n",
       "      <th>3</th>\n",
       "      <td>M</td>\n",
       "      <td>0.440</td>\n",
       "      <td>0.365</td>\n",
       "      <td>0.125</td>\n",
       "      <td>0.5160</td>\n",
       "      <td>0.2155</td>\n",
       "      <td>0.1140</td>\n",
       "      <td>0.1550</td>\n",
       "      <td>0.321429</td>\n",
       "    </tr>\n",
       "    <tr>\n",
       "      <th>4</th>\n",
       "      <td>I</td>\n",
       "      <td>0.330</td>\n",
       "      <td>0.255</td>\n",
       "      <td>0.080</td>\n",
       "      <td>0.2050</td>\n",
       "      <td>0.0895</td>\n",
       "      <td>0.0395</td>\n",
       "      <td>0.0550</td>\n",
       "      <td>0.214286</td>\n",
       "    </tr>\n",
       "    <tr>\n",
       "      <th>...</th>\n",
       "      <td>...</td>\n",
       "      <td>...</td>\n",
       "      <td>...</td>\n",
       "      <td>...</td>\n",
       "      <td>...</td>\n",
       "      <td>...</td>\n",
       "      <td>...</td>\n",
       "      <td>...</td>\n",
       "      <td>...</td>\n",
       "    </tr>\n",
       "    <tr>\n",
       "      <th>4172</th>\n",
       "      <td>F</td>\n",
       "      <td>0.565</td>\n",
       "      <td>0.450</td>\n",
       "      <td>0.165</td>\n",
       "      <td>0.8870</td>\n",
       "      <td>0.3700</td>\n",
       "      <td>0.2390</td>\n",
       "      <td>0.2490</td>\n",
       "      <td>0.357143</td>\n",
       "    </tr>\n",
       "    <tr>\n",
       "      <th>4173</th>\n",
       "      <td>M</td>\n",
       "      <td>0.590</td>\n",
       "      <td>0.440</td>\n",
       "      <td>0.135</td>\n",
       "      <td>0.9660</td>\n",
       "      <td>0.4390</td>\n",
       "      <td>0.2145</td>\n",
       "      <td>0.2605</td>\n",
       "      <td>0.321429</td>\n",
       "    </tr>\n",
       "    <tr>\n",
       "      <th>4174</th>\n",
       "      <td>M</td>\n",
       "      <td>0.600</td>\n",
       "      <td>0.475</td>\n",
       "      <td>0.205</td>\n",
       "      <td>1.1760</td>\n",
       "      <td>0.5255</td>\n",
       "      <td>0.2875</td>\n",
       "      <td>0.3080</td>\n",
       "      <td>0.285714</td>\n",
       "    </tr>\n",
       "    <tr>\n",
       "      <th>4175</th>\n",
       "      <td>F</td>\n",
       "      <td>0.625</td>\n",
       "      <td>0.485</td>\n",
       "      <td>0.150</td>\n",
       "      <td>1.0945</td>\n",
       "      <td>0.5310</td>\n",
       "      <td>0.2610</td>\n",
       "      <td>0.2960</td>\n",
       "      <td>0.321429</td>\n",
       "    </tr>\n",
       "    <tr>\n",
       "      <th>4176</th>\n",
       "      <td>M</td>\n",
       "      <td>0.710</td>\n",
       "      <td>0.555</td>\n",
       "      <td>0.195</td>\n",
       "      <td>1.9485</td>\n",
       "      <td>0.9455</td>\n",
       "      <td>0.3765</td>\n",
       "      <td>0.4950</td>\n",
       "      <td>0.392857</td>\n",
       "    </tr>\n",
       "  </tbody>\n",
       "</table>\n",
       "<p>4177 rows × 9 columns</p>\n",
       "</div>"
      ],
      "text/plain": [
       "     Sex  Length  Diameter  Height  Whole weight  Shucked weight  \\\n",
       "0      M   0.455     0.365   0.095        0.5140          0.2245   \n",
       "1      M   0.350     0.265   0.090        0.2255          0.0995   \n",
       "2      F   0.530     0.420   0.135        0.6770          0.2565   \n",
       "3      M   0.440     0.365   0.125        0.5160          0.2155   \n",
       "4      I   0.330     0.255   0.080        0.2050          0.0895   \n",
       "...   ..     ...       ...     ...           ...             ...   \n",
       "4172   F   0.565     0.450   0.165        0.8870          0.3700   \n",
       "4173   M   0.590     0.440   0.135        0.9660          0.4390   \n",
       "4174   M   0.600     0.475   0.205        1.1760          0.5255   \n",
       "4175   F   0.625     0.485   0.150        1.0945          0.5310   \n",
       "4176   M   0.710     0.555   0.195        1.9485          0.9455   \n",
       "\n",
       "      Viscera weight  Shell weight       Age  \n",
       "0             0.1010        0.1500  0.500000  \n",
       "1             0.0485        0.0700  0.214286  \n",
       "2             0.1415        0.2100  0.285714  \n",
       "3             0.1140        0.1550  0.321429  \n",
       "4             0.0395        0.0550  0.214286  \n",
       "...              ...           ...       ...  \n",
       "4172          0.2390        0.2490  0.357143  \n",
       "4173          0.2145        0.2605  0.321429  \n",
       "4174          0.2875        0.3080  0.285714  \n",
       "4175          0.2610        0.2960  0.321429  \n",
       "4176          0.3765        0.4950  0.392857  \n",
       "\n",
       "[4177 rows x 9 columns]"
      ]
     },
     "execution_count": 34,
     "metadata": {},
     "output_type": "execute_result"
    }
   ],
   "source": [
    "x"
   ]
  },
  {
   "cell_type": "code",
   "execution_count": 35,
   "id": "5a359f3d",
   "metadata": {},
   "outputs": [
    {
     "data": {
      "text/plain": [
       "0       0.5140\n",
       "1       0.2255\n",
       "2       0.6770\n",
       "3       0.5160\n",
       "4       0.2050\n",
       "         ...  \n",
       "4172    0.8870\n",
       "4173    0.9660\n",
       "4174    1.1760\n",
       "4175    1.0945\n",
       "4176    1.9485\n",
       "Name: Whole weight, Length: 4177, dtype: float64"
      ]
     },
     "execution_count": 35,
     "metadata": {},
     "output_type": "execute_result"
    }
   ],
   "source": [
    "y"
   ]
  },
  {
   "cell_type": "code",
   "execution_count": null,
   "id": "31e60961",
   "metadata": {},
   "outputs": [],
   "source": []
  },
  {
   "cell_type": "code",
   "execution_count": 36,
   "id": "c5b6986f",
   "metadata": {},
   "outputs": [
    {
     "name": "stdout",
     "output_type": "stream",
     "text": [
      "      Length  Diameter  Height  Whole weight  Shucked weight  Viscera weight  \\\n",
      "2486   0.490     0.400   0.145        0.6635          0.2100          0.1295   \n",
      "317    0.450     0.350   0.100        0.3675          0.1465          0.1015   \n",
      "2555   0.370     0.290   0.080        0.2545          0.1080          0.0565   \n",
      "2987   0.555     0.405   0.190        1.4060          0.6115          0.3420   \n",
      "1206   0.750     0.570   0.210        2.2360          1.1090          0.5195   \n",
      "...      ...       ...     ...           ...             ...             ...   \n",
      "1685   0.620     0.450   0.135        0.9240          0.3580          0.2265   \n",
      "2049   0.445     0.320   0.120        0.3780          0.1520          0.0825   \n",
      "1146   0.580     0.445   0.135        0.8140          0.3775          0.1915   \n",
      "3518   0.710     0.570   0.195        1.3480          0.8985          0.4435   \n",
      "1414   0.685     0.545   0.205        1.7925          0.8145          0.4160   \n",
      "\n",
      "      Shell weight  Rings       Age  \n",
      "2486        0.2515     13  0.428571  \n",
      "317         0.1200     10  0.321429  \n",
      "2555        0.0700      6  0.178571  \n",
      "2987        0.3890     10  0.321429  \n",
      "1206        0.5450     11  0.357143  \n",
      "...            ...    ...       ...  \n",
      "1685        0.2965     10  0.321429  \n",
      "2049        0.1200      8  0.250000  \n",
      "1146        0.2200      9  0.285714  \n",
      "3518        0.4535     11  0.357143  \n",
      "1414        0.4610      9  0.285714  \n",
      "\n",
      "[417 rows x 9 columns]\n",
      "2486    0.428571\n",
      "317     0.321429\n",
      "2555    0.178571\n",
      "2987    0.321429\n",
      "1206    0.357143\n",
      "          ...   \n",
      "1685    0.321429\n",
      "2049    0.250000\n",
      "1146    0.285714\n",
      "3518    0.357143\n",
      "1414    0.285714\n",
      "Name: Age, Length: 417, dtype: float64\n",
      "      Length  Diameter  Height  Whole weight  Shucked weight  Viscera weight  \\\n",
      "3806   0.425     0.310   0.095        0.3505          0.1645          0.0710   \n",
      "1140   0.575     0.455   0.135        0.9070          0.4245          0.1970   \n",
      "3894   0.495     0.380   0.135        0.6295          0.2630          0.1425   \n",
      "3184   0.670     0.545   0.175        1.7070          0.6995          0.3870   \n",
      "57     0.470     0.385   0.135        0.5895          0.2765          0.1200   \n",
      "...      ...       ...     ...           ...             ...             ...   \n",
      "1935   0.620     0.485   0.155        1.0295          0.4250          0.2315   \n",
      "2127   0.400     0.310   0.100        0.1270          0.1060          0.0710   \n",
      "1541   0.360     0.275   0.075        0.2205          0.0985          0.0440   \n",
      "1494   0.620     0.485   0.155        1.0490          0.4620          0.2310   \n",
      "3365   0.440     0.310   0.115        0.3625          0.1340          0.0820   \n",
      "\n",
      "      Shell weight  Rings       Age  \n",
      "3806         0.100      8  0.250000  \n",
      "1140         0.260      9  0.285714  \n",
      "3894         0.215     12  0.392857  \n",
      "3184         0.575     13  0.428571  \n",
      "57           0.170      8  0.250000  \n",
      "...            ...    ...       ...  \n",
      "1935         0.335     12  0.392857  \n",
      "2127         0.085      7  0.214286  \n",
      "1541         0.066      7  0.214286  \n",
      "1494         0.250     10  0.321429  \n",
      "3365         0.120     11  0.357143  \n",
      "\n",
      "[3760 rows x 9 columns]\n",
      "3806    0.250000\n",
      "1140    0.285714\n",
      "3894    0.392857\n",
      "3184    0.428571\n",
      "57      0.250000\n",
      "          ...   \n",
      "1935    0.392857\n",
      "2127    0.214286\n",
      "1541    0.214286\n",
      "1494    0.321429\n",
      "3365    0.357143\n",
      "Name: Age, Length: 3760, dtype: float64\n"
     ]
    }
   ],
   "source": [
    "train_size=0.05\n",
    "X = df.drop(columns=['Sex']).copy()\n",
    "Y = df['Age']\n",
    "X_train, X_test, Y_train, Y_test = train_test_split(X,Y,train_size=0.1)\n",
    "print(X_train)\n",
    "print(Y_train)\n",
    "print(X_test)\n",
    "print(Y_test)"
   ]
  },
  {
   "cell_type": "markdown",
   "id": "156f7038",
   "metadata": {},
   "source": [
    "11. Build the Model"
   ]
  },
  {
   "cell_type": "code",
   "execution_count": 37,
   "id": "f0d664fc",
   "metadata": {},
   "outputs": [],
   "source": [
    "from sklearn.linear_model import LinearRegression\n",
    "lr = LinearRegression()"
   ]
  },
  {
   "cell_type": "markdown",
   "id": "62b73ffe",
   "metadata": {},
   "source": [
    "12. Train the Model "
   ]
  },
  {
   "cell_type": "code",
   "execution_count": 38,
   "id": "318b9373",
   "metadata": {},
   "outputs": [
    {
     "data": {
      "text/plain": [
       "LinearRegression()"
      ]
     },
     "execution_count": 38,
     "metadata": {},
     "output_type": "execute_result"
    }
   ],
   "source": [
    "lr.fit(X_train,Y_train)"
   ]
  },
  {
   "cell_type": "markdown",
   "id": "6ce65728",
   "metadata": {},
   "source": [
    "13. Test the Model"
   ]
  },
  {
   "cell_type": "code",
   "execution_count": 39,
   "id": "06633ca6",
   "metadata": {},
   "outputs": [],
   "source": [
    "pred = lr.predict(X_train)"
   ]
  },
  {
   "cell_type": "code",
   "execution_count": 40,
   "id": "0795a440",
   "metadata": {},
   "outputs": [
    {
     "data": {
      "text/plain": [
       "array([0.42857143, 0.32142857, 0.17857143, 0.32142857, 0.35714286,\n",
       "       0.39285714, 0.17857143, 0.21428571, 0.17857143, 0.25      ,\n",
       "       0.67857143, 0.10714286, 0.28571429, 0.35714286, 0.32142857,\n",
       "       0.32142857, 0.07142857, 0.46428571, 0.42857143, 0.25      ,\n",
       "       0.28571429, 0.39285714, 0.25      , 0.35714286, 0.5       ,\n",
       "       0.25      , 0.42857143, 0.28571429, 0.28571429, 0.17857143,\n",
       "       0.25      , 0.35714286, 0.64285714, 0.42857143, 0.21428571,\n",
       "       0.28571429, 0.35714286, 0.21428571, 0.17857143, 0.5       ,\n",
       "       0.35714286, 0.42857143, 0.35714286, 0.14285714, 0.25      ,\n",
       "       0.28571429, 0.10714286, 0.25      , 0.39285714, 0.35714286,\n",
       "       0.39285714, 0.17857143, 0.25      , 0.21428571, 0.28571429,\n",
       "       0.35714286, 0.32142857, 0.28571429, 0.14285714, 0.10714286,\n",
       "       0.39285714, 0.35714286, 0.21428571, 0.25      , 0.60714286,\n",
       "       0.25      , 0.28571429, 0.32142857, 0.28571429, 0.75      ,\n",
       "       0.28571429, 0.42857143, 0.32142857, 0.28571429, 0.32142857,\n",
       "       0.25      , 0.42857143, 0.25      , 0.35714286, 0.32142857,\n",
       "       0.21428571, 0.35714286, 0.39285714, 0.35714286, 0.32142857,\n",
       "       0.25      , 0.21428571, 0.25      , 0.28571429, 0.32142857,\n",
       "       0.42857143, 0.35714286, 0.42857143, 0.14285714, 0.42857143,\n",
       "       0.57142857, 0.21428571, 0.60714286, 0.32142857, 0.17857143,\n",
       "       0.5       , 0.53571429, 0.35714286, 0.07142857, 0.25      ,\n",
       "       0.32142857, 0.32142857, 0.28571429, 0.25      , 0.25      ,\n",
       "       0.25      , 0.32142857, 0.35714286, 0.53571429, 0.32142857,\n",
       "       0.17857143, 0.42857143, 0.28571429, 0.32142857, 0.21428571,\n",
       "       0.28571429, 0.39285714, 0.25      , 0.42857143, 0.28571429,\n",
       "       0.28571429, 0.53571429, 0.35714286, 0.28571429, 0.42857143,\n",
       "       0.67857143, 0.32142857, 0.21428571, 0.32142857, 0.42857143,\n",
       "       0.28571429, 0.17857143, 0.28571429, 0.21428571, 0.32142857,\n",
       "       0.35714286, 0.21428571, 0.21428571, 0.28571429, 0.14285714,\n",
       "       0.35714286, 0.28571429, 0.14285714, 0.32142857, 0.28571429,\n",
       "       0.32142857, 0.5       , 0.60714286, 0.35714286, 0.28571429,\n",
       "       0.28571429, 0.17857143, 0.39285714, 0.46428571, 0.46428571,\n",
       "       0.42857143, 0.39285714, 0.17857143, 0.39285714, 0.32142857,\n",
       "       0.32142857, 0.67857143, 0.32142857, 0.25      , 0.17857143,\n",
       "       0.32142857, 0.25      , 0.32142857, 0.32142857, 0.25      ,\n",
       "       0.21428571, 0.42857143, 0.32142857, 0.35714286, 0.10714286,\n",
       "       0.21428571, 0.35714286, 0.28571429, 0.21428571, 0.42857143,\n",
       "       0.46428571, 0.25      , 0.17857143, 0.25      , 0.35714286,\n",
       "       0.25      , 0.32142857, 0.25      , 0.39285714, 0.32142857,\n",
       "       0.39285714, 0.14285714, 0.39285714, 0.28571429, 0.35714286,\n",
       "       0.35714286, 0.17857143, 0.32142857, 0.28571429, 0.35714286,\n",
       "       0.17857143, 0.28571429, 0.21428571, 0.21428571, 0.42857143,\n",
       "       0.17857143, 0.17857143, 0.32142857, 0.35714286, 0.14285714,\n",
       "       0.14285714, 0.10714286, 0.32142857, 0.42857143, 0.28571429,\n",
       "       0.25      , 0.35714286, 0.32142857, 0.32142857, 0.32142857,\n",
       "       0.21428571, 0.82142857, 0.25      , 0.21428571, 0.28571429,\n",
       "       0.25      , 0.35714286, 0.39285714, 0.32142857, 0.28571429,\n",
       "       0.32142857, 0.35714286, 0.25      , 0.32142857, 0.32142857,\n",
       "       0.35714286, 0.35714286, 0.14285714, 0.25      , 0.21428571,\n",
       "       0.28571429, 0.32142857, 0.53571429, 0.32142857, 0.35714286,\n",
       "       0.21428571, 0.35714286, 0.46428571, 0.46428571, 0.5       ,\n",
       "       0.5       , 0.32142857, 0.07142857, 0.32142857, 0.25      ,\n",
       "       0.35714286, 0.28571429, 0.60714286, 0.21428571, 0.17857143,\n",
       "       0.5       , 0.32142857, 0.32142857, 0.32142857, 0.32142857,\n",
       "       0.78571429, 0.46428571, 0.25      , 0.32142857, 0.39285714,\n",
       "       0.46428571, 0.17857143, 0.25      , 0.35714286, 0.32142857,\n",
       "       0.32142857, 0.25      , 0.28571429, 0.5       , 0.35714286,\n",
       "       0.35714286, 0.39285714, 0.21428571, 0.28571429, 0.28571429,\n",
       "       0.21428571, 0.28571429, 0.35714286, 0.67857143, 0.32142857,\n",
       "       0.28571429, 0.35714286, 0.46428571, 0.25      , 0.28571429,\n",
       "       0.32142857, 0.35714286, 0.42857143, 0.28571429, 0.17857143,\n",
       "       0.32142857, 0.32142857, 0.25      , 0.35714286, 0.17857143,\n",
       "       0.35714286, 0.28571429, 0.64285714, 0.42857143, 0.21428571,\n",
       "       0.32142857, 0.28571429, 0.21428571, 0.25      , 0.39285714,\n",
       "       0.28571429, 0.28571429, 0.42857143, 0.32142857, 0.39285714,\n",
       "       0.39285714, 0.46428571, 0.21428571, 0.28571429, 0.25      ,\n",
       "       0.32142857, 0.64285714, 0.67857143, 0.21428571, 0.28571429,\n",
       "       0.35714286, 0.42857143, 0.28571429, 0.21428571, 0.21428571,\n",
       "       0.42857143, 0.32142857, 0.32142857, 0.32142857, 0.21428571,\n",
       "       0.39285714, 0.17857143, 0.28571429, 0.32142857, 0.10714286,\n",
       "       0.60714286, 0.35714286, 0.25      , 0.28571429, 0.25      ,\n",
       "       0.14285714, 0.35714286, 0.21428571, 0.28571429, 0.21428571,\n",
       "       0.14285714, 0.21428571, 0.53571429, 0.14285714, 0.32142857,\n",
       "       0.10714286, 0.35714286, 0.28571429, 0.25      , 0.32142857,\n",
       "       0.14285714, 0.28571429, 0.14285714, 0.57142857, 0.32142857,\n",
       "       0.28571429, 0.28571429, 0.32142857, 0.35714286, 0.42857143,\n",
       "       0.35714286, 0.21428571, 0.25      , 0.25      , 0.28571429,\n",
       "       0.46428571, 0.32142857, 0.35714286, 0.32142857, 0.21428571,\n",
       "       0.42857143, 0.25      , 0.28571429, 0.35714286, 0.25      ,\n",
       "       0.32142857, 0.5       , 0.42857143, 0.35714286, 0.57142857,\n",
       "       0.46428571, 0.32142857, 0.35714286, 0.28571429, 0.32142857,\n",
       "       0.25      , 0.32142857, 0.25      , 0.46428571, 0.21428571,\n",
       "       0.32142857, 0.42857143, 0.32142857, 0.25      , 0.28571429,\n",
       "       0.35714286, 0.28571429])"
      ]
     },
     "execution_count": 40,
     "metadata": {},
     "output_type": "execute_result"
    }
   ],
   "source": [
    "pred"
   ]
  },
  {
   "cell_type": "markdown",
   "id": "55982b9a",
   "metadata": {},
   "source": [
    "14. Measure the performance using Metrics."
   ]
  },
  {
   "cell_type": "code",
   "execution_count": null,
   "id": "5f806de8",
   "metadata": {},
   "outputs": [],
   "source": [
    "from sklearn.metrics import mean_squared_error, r2_score\n",
    "mse = mean_squared_error(pred, Y_test)"
   ]
  },
  {
   "cell_type": "code",
   "execution_count": null,
   "id": "bec57f3e",
   "metadata": {},
   "outputs": [],
   "source": []
  },
  {
   "cell_type": "code",
   "execution_count": null,
   "id": "062e97d3",
   "metadata": {},
   "outputs": [],
   "source": []
  }
 ],
 "metadata": {
  "kernelspec": {
   "display_name": "Python 3 (ipykernel)",
   "language": "python",
   "name": "python3"
  },
  "language_info": {
   "codemirror_mode": {
    "name": "ipython",
    "version": 3
   },
   "file_extension": ".py",
   "mimetype": "text/x-python",
   "name": "python",
   "nbconvert_exporter": "python",
   "pygments_lexer": "ipython3",
   "version": "3.9.12"
  }
 },
 "nbformat": 4,
 "nbformat_minor": 5
}
